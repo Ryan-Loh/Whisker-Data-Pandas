{
 "cells": [
  {
   "cell_type": "code",
   "execution_count": 2,
   "metadata": {},
   "outputs": [],
   "source": [
    "import pandas as pd\n",
    "import matplotlib.pyplot as plt\n",
    "import numpy as np\n",
    "import os\n",
    "import glob"
   ]
  },
  {
   "cell_type": "code",
   "execution_count": 3,
   "metadata": {},
   "outputs": [],
   "source": [
    "directory = r\"\\\\mntl-vlasov-srv.ad.uillinois.edu\\projects\\Users\\Ryan\\Data\\139\\Whisker\\Run_01\\analyze\"\n",
    "files = [f for f in glob.glob(directory + \"**/*.csv\", recursive=True)]"
   ]
  },
  {
   "cell_type": "code",
   "execution_count": null,
   "metadata": {
    "scrolled": false
   },
   "outputs": [],
   "source": [
    "for f in files:\n",
    "    dlc1 = pd.read_csv(f, header = 2)\n",
    "    dlc1.rename(columns={\"x\":\"base_x\", \"y\":\"base_y\", \n",
    "                     \"x.1\":\"middle_x\", \"y.1\":\"middle_y\", \n",
    "                     \"x.2\":\"tip_x\", \"y.2\":\"tip_y\", \n",
    "                     \"x.3\":\"obj_x\", \"y.3\":\"obj_y\"}, inplace=True)\n",
    "    dlc1.drop([\"likelihood\",\"likelihood.1\",\"likelihood.2\",\"likelihood.3\",\"obj_x\", \"obj_y\"], axis=1, inplace=True)\n",
    "    \n",
    "    fig,ax=plt.subplots()\n",
    "    for ii in range(len(dlc1)):\n",
    "        ar1 = [dlc1[\"base_x\"][ii], dlc1[\"tip_x\"][ii]]\n",
    "        ar2 = [dlc1[\"base_y\"][ii], dlc1[\"tip_y\"][ii]]\n",
    "        ax.plot(ar1,ar2)\n",
    "    ax.set_xlim(100,400)\n",
    "    ax.set_ylim(0,250)\n",
    "    ax.set_title(\"Reconstructed whiskers from DLC training by frame\")\n",
    "    ax.tick_params(bottom = False, top = False, left = False, right = False)\n",
    "    for key, spine in ax.spines.items():\n",
    "        spine.set_visible(False)\n",
    "    ax.set_yticklabels([])\n",
    "    ax.set_xticklabels([])\n",
    "    plt.savefig(f[0:-4] + \"_Reconstructed_whisker.png\")\n",
    "    \n",
    "    dlc1[\"angle\"] = np.round(np.degrees(np.arctan2(dlc1[\"tip_y\"]-dlc1[\"base_y\"],dlc1[\"tip_x\"]-dlc1[\"base_x\"]))+180)\n",
    "    dlc1_filt = dlc1[dlc1[\"angle\"]<180].reset_index().drop([\"index\"], axis=1)   \n",
    "    \n",
    "    fig,ax2 = plt.subplots()\n",
    "    ax2.plot(dlc1_filt[\"coords\"]/100,dlc1_filt[\"angle\"])\n",
    "    ax2.set_xlabel(\"Trial Time (seconds)\")\n",
    "    ax2.set_ylabel(\"Whisker Angle (degrees)\")\n",
    "    ax2.set_title(\"Whisker Angle by Trial Time\")\n",
    "    ax2.set_xlim(0,7.5)\n",
    "    ax2.set_ylim(-10,65)\n",
    "    ax2.tick_params(top = False, right = False)\n",
    "    ax2.spines[\"right\"].set_visible(False)\n",
    "    ax2.spines[\"top\"].set_visible(False)\n",
    "    plt.savefig(f[0:-4] + \"_Whisker angle trial time.png\")\n",
    "    \n",
    "    plt.close('all')"
   ]
  }
 ],
 "metadata": {
  "kernelspec": {
   "display_name": "Python 3",
   "language": "python",
   "name": "python3"
  },
  "language_info": {
   "codemirror_mode": {
    "name": "ipython",
    "version": 3
   },
   "file_extension": ".py",
   "mimetype": "text/x-python",
   "name": "python",
   "nbconvert_exporter": "python",
   "pygments_lexer": "ipython3",
   "version": "3.7.3"
  }
 },
 "nbformat": 4,
 "nbformat_minor": 2
}
